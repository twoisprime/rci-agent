{
 "cells": [
  {
   "cell_type": "code",
   "execution_count": 14,
   "metadata": {},
   "outputs": [],
   "source": [
    "import json\n",
    "import yaml\n",
    "from selenium import webdriver\n",
    "from playwright.async_api import async_playwright\n",
    "# import transformers"
   ]
  },
  {
   "cell_type": "code",
   "execution_count": 2,
   "metadata": {},
   "outputs": [
    {
     "data": {
      "text/plain": [
       "<selenium.webdriver.chrome.webdriver.WebDriver (session=\"84ab064eb345855a3f019662b454f198\")>"
      ]
     },
     "execution_count": 2,
     "metadata": {},
     "output_type": "execute_result"
    }
   ],
   "source": [
    "options = webdriver.ChromeOptions()\n",
    "# options.binary_location = \"/usr/bin/google-chrome\"\n",
    "options.chrome_driver_binary = \"/usr/bin/chromedriver\"\n",
    "# if self.headless:\n",
    "#     options.add_argument(\"headless\")\n",
    "#     options.add_argument(\"disable-gpu\")\n",
    "#     options.add_argument(\"no-sandbox\")\n",
    "# else:\n",
    "#     options.add_argument(\"app=\" + self.url)\n",
    "#     options.add_argument(\n",
    "#         f\"window-size={self.window_width},{self.window_height}\"\n",
    "#     )\n",
    "#     options.add_argument(\n",
    "#         \"window-position={},{}\".format(\n",
    "#             9000, 30 + self.index * (self.window_height + 30)\n",
    "#         )\n",
    "#     )\n",
    "webdriver.Chrome(options=options)"
   ]
  },
  {
   "cell_type": "code",
   "execution_count": null,
   "metadata": {},
   "outputs": [],
   "source": [
    "# model = transformers.AutoModelForCausalLM.from_pretrained(\n",
    "#   'mosaicml/mpt-7b-instruct',\n",
    "#   trust_remote_code=True\n",
    "# )"
   ]
  },
  {
   "cell_type": "code",
   "execution_count": 5,
   "metadata": {},
   "outputs": [
    {
     "name": "stdout",
     "output_type": "stream",
     "text": [
      "5\n"
     ]
    }
   ],
   "source": [
    "current_plan = \"\"\"\n",
    "1. clickxpath //*[@id=\"username\"]\n",
    "2. type maria\n",
    "3. clickxpath //*[@id=\"password\"]\n",
    "4. type thoushallnotpass\n",
    "5. clickxpath //button[@type='submit']\n",
    "\"\"\"\n",
    "\n",
    "def get_plan_step(current_plan):\n",
    "    idx = 1\n",
    "    while True:\n",
    "        if (str(idx) + \".\") not in current_plan:\n",
    "            return (idx - 1)\n",
    "        idx += 1\n",
    "\n",
    "print(get_plan_step(current_plan))"
   ]
  },
  {
   "cell_type": "code",
   "execution_count": 7,
   "metadata": {},
   "outputs": [],
   "source": [
    "with open(\"test/gpt4.json\", \"r\") as f:\n",
    "    dummy = json.load(f)"
   ]
  },
  {
   "cell_type": "code",
   "execution_count": 8,
   "metadata": {},
   "outputs": [],
   "source": [
    "# pretty dump json file\n",
    "with open(\"test/gpt4_pretty.json\", \"w\") as f:\n",
    "    json.dump(dummy, f, indent=4)"
   ]
  },
  {
   "cell_type": "code",
   "execution_count": 11,
   "metadata": {},
   "outputs": [],
   "source": [
    "robot = {\n",
    "    \"main\": {\n",
    "        \"params\": {\n",
    "            \"url\": \"\"\n",
    "        },\n",
    "        \"steps\": []\n",
    "    }\n",
    "}\n",
    "\n",
    "with open(\"test/webagent.yaml\", \"w\") as f:\n",
    "    yaml.dump(robot, f)"
   ]
  },
  {
   "cell_type": "code",
   "execution_count": 15,
   "metadata": {},
   "outputs": [],
   "source": [
    "playwright = await async_playwright().start()\n",
    "browser = await playwright.chromium.launch()\n",
    "page = await browser.new_page()\n",
    "await page.goto(\"https://playwright.dev/\")\n",
    "await page.screenshot(path=\"example.png\")\n",
    "await browser.close()\n",
    "await playwright.stop()"
   ]
  },
  {
   "cell_type": "code",
   "execution_count": null,
   "metadata": {},
   "outputs": [],
   "source": []
  }
 ],
 "metadata": {
  "kernelspec": {
   "display_name": "webagent",
   "language": "python",
   "name": "python3"
  },
  "language_info": {
   "codemirror_mode": {
    "name": "ipython",
    "version": 3
   },
   "file_extension": ".py",
   "mimetype": "text/x-python",
   "name": "python",
   "nbconvert_exporter": "python",
   "pygments_lexer": "ipython3",
   "version": "3.11.5"
  },
  "orig_nbformat": 4
 },
 "nbformat": 4,
 "nbformat_minor": 2
}
